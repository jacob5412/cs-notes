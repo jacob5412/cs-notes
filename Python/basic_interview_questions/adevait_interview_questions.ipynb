{
 "cells": [
  {
   "cell_type": "markdown",
   "id": "d21905df",
   "metadata": {},
   "source": [
    "# Adevait interview questions\n",
    "\n",
    "Source: [adevait.com](https://adevait.com/python/interview-questions)"
   ]
  },
  {
   "cell_type": "code",
   "execution_count": 1,
   "id": "eebea08f",
   "metadata": {},
   "outputs": [
    {
     "data": {
      "application/javascript": [
       "\n",
       "            setTimeout(function() {\n",
       "                var nbb_cell_id = 1;\n",
       "                var nbb_unformatted_code = \"%load_ext nb_black\";\n",
       "                var nbb_formatted_code = \"%load_ext nb_black\";\n",
       "                var nbb_cells = Jupyter.notebook.get_cells();\n",
       "                for (var i = 0; i < nbb_cells.length; ++i) {\n",
       "                    if (nbb_cells[i].input_prompt_number == nbb_cell_id) {\n",
       "                        if (nbb_cells[i].get_text() == nbb_unformatted_code) {\n",
       "                             nbb_cells[i].set_text(nbb_formatted_code);\n",
       "                        }\n",
       "                        break;\n",
       "                    }\n",
       "                }\n",
       "            }, 500);\n",
       "            "
      ],
      "text/plain": [
       "<IPython.core.display.Javascript object>"
      ]
     },
     "metadata": {},
     "output_type": "display_data"
    }
   ],
   "source": [
    "%load_ext nb_black"
   ]
  },
  {
   "cell_type": "markdown",
   "id": "43c97898",
   "metadata": {},
   "source": [
    "### What's the difference between a `tuple` and a `list`?\n",
    "\n",
    "Both are data structures. But `tuples` are immutable"
   ]
  },
  {
   "cell_type": "code",
   "execution_count": 2,
   "id": "d5bf4b71",
   "metadata": {},
   "outputs": [
    {
     "data": {
      "application/javascript": [
       "\n",
       "            setTimeout(function() {\n",
       "                var nbb_cell_id = 2;\n",
       "                var nbb_unformatted_code = \"t1 = tuple([1, 2, 3])\\nl1 = [1, 2, 3]\";\n",
       "                var nbb_formatted_code = \"t1 = tuple([1, 2, 3])\\nl1 = [1, 2, 3]\";\n",
       "                var nbb_cells = Jupyter.notebook.get_cells();\n",
       "                for (var i = 0; i < nbb_cells.length; ++i) {\n",
       "                    if (nbb_cells[i].input_prompt_number == nbb_cell_id) {\n",
       "                        if (nbb_cells[i].get_text() == nbb_unformatted_code) {\n",
       "                             nbb_cells[i].set_text(nbb_formatted_code);\n",
       "                        }\n",
       "                        break;\n",
       "                    }\n",
       "                }\n",
       "            }, 500);\n",
       "            "
      ],
      "text/plain": [
       "<IPython.core.display.Javascript object>"
      ]
     },
     "metadata": {},
     "output_type": "display_data"
    }
   ],
   "source": [
    "t1 = tuple([1, 2, 3])\n",
    "l1 = [1, 2, 3]"
   ]
  },
  {
   "cell_type": "code",
   "execution_count": 3,
   "id": "c6d81161",
   "metadata": {},
   "outputs": [
    {
     "ename": "TypeError",
     "evalue": "'tuple' object does not support item assignment",
     "output_type": "error",
     "traceback": [
      "\u001b[0;31m---------------------------------------------------------------------------\u001b[0m",
      "\u001b[0;31mTypeError\u001b[0m                                 Traceback (most recent call last)",
      "Cell \u001b[0;32mIn[3], line 1\u001b[0m\n\u001b[0;32m----> 1\u001b[0m \u001b[43mt1\u001b[49m\u001b[43m[\u001b[49m\u001b[38;5;241;43m0\u001b[39;49m\u001b[43m]\u001b[49m \u001b[38;5;241m=\u001b[39m \u001b[38;5;241m1\u001b[39m\n",
      "\u001b[0;31mTypeError\u001b[0m: 'tuple' object does not support item assignment"
     ]
    },
    {
     "data": {
      "application/javascript": [
       "\n",
       "            setTimeout(function() {\n",
       "                var nbb_cell_id = 3;\n",
       "                var nbb_unformatted_code = \"t1[0] = 1\";\n",
       "                var nbb_formatted_code = \"t1[0] = 1\";\n",
       "                var nbb_cells = Jupyter.notebook.get_cells();\n",
       "                for (var i = 0; i < nbb_cells.length; ++i) {\n",
       "                    if (nbb_cells[i].input_prompt_number == nbb_cell_id) {\n",
       "                        if (nbb_cells[i].get_text() == nbb_unformatted_code) {\n",
       "                             nbb_cells[i].set_text(nbb_formatted_code);\n",
       "                        }\n",
       "                        break;\n",
       "                    }\n",
       "                }\n",
       "            }, 500);\n",
       "            "
      ],
      "text/plain": [
       "<IPython.core.display.Javascript object>"
      ]
     },
     "metadata": {},
     "output_type": "display_data"
    }
   ],
   "source": [
    "t1[0] = 1"
   ]
  },
  {
   "cell_type": "code",
   "execution_count": 4,
   "id": "5cf0f8b7",
   "metadata": {},
   "outputs": [
    {
     "name": "stdout",
     "output_type": "stream",
     "text": [
      "[2, 2, 3]\n"
     ]
    },
    {
     "data": {
      "application/javascript": [
       "\n",
       "            setTimeout(function() {\n",
       "                var nbb_cell_id = 4;\n",
       "                var nbb_unformatted_code = \"l1[0] = 2\\nprint(l1)\";\n",
       "                var nbb_formatted_code = \"l1[0] = 2\\nprint(l1)\";\n",
       "                var nbb_cells = Jupyter.notebook.get_cells();\n",
       "                for (var i = 0; i < nbb_cells.length; ++i) {\n",
       "                    if (nbb_cells[i].input_prompt_number == nbb_cell_id) {\n",
       "                        if (nbb_cells[i].get_text() == nbb_unformatted_code) {\n",
       "                             nbb_cells[i].set_text(nbb_formatted_code);\n",
       "                        }\n",
       "                        break;\n",
       "                    }\n",
       "                }\n",
       "            }, 500);\n",
       "            "
      ],
      "text/plain": [
       "<IPython.core.display.Javascript object>"
      ]
     },
     "metadata": {},
     "output_type": "display_data"
    }
   ],
   "source": [
    "l1[0] = 2\n",
    "print(l1)"
   ]
  },
  {
   "cell_type": "markdown",
   "id": "2c7f861f",
   "metadata": {},
   "source": [
    "### What is a `dict` and what's its most important limitation?\n",
    "\n",
    "* A `dict` is a data structure that stores information like a hash map. \n",
    "* Stored key-value pairs where keys are unique.\n",
    "* Has a `O(1)` access time.\n",
    "* Limitation is that keys must be hashable/immutable, hence a `tuple` can be a key, but a `list` cannot."
   ]
  },
  {
   "cell_type": "markdown",
   "id": "f0a092b7",
   "metadata": {},
   "source": [
    "### What is a callable?\n",
    "\n",
    "A callable is an object we can call - function or object implementing the `__call__` method."
   ]
  },
  {
   "cell_type": "markdown",
   "id": "b20f584e",
   "metadata": {},
   "source": [
    "### Using list comprehension, print the odd numbers between 0 and 100."
   ]
  },
  {
   "cell_type": "code",
   "execution_count": 5,
   "id": "395ea3ac",
   "metadata": {},
   "outputs": [
    {
     "data": {
      "text/plain": [
       "[1,\n",
       " 3,\n",
       " 5,\n",
       " 7,\n",
       " 9,\n",
       " 11,\n",
       " 13,\n",
       " 15,\n",
       " 17,\n",
       " 19,\n",
       " 21,\n",
       " 23,\n",
       " 25,\n",
       " 27,\n",
       " 29,\n",
       " 31,\n",
       " 33,\n",
       " 35,\n",
       " 37,\n",
       " 39,\n",
       " 41,\n",
       " 43,\n",
       " 45,\n",
       " 47,\n",
       " 49,\n",
       " 51,\n",
       " 53,\n",
       " 55,\n",
       " 57,\n",
       " 59,\n",
       " 61,\n",
       " 63,\n",
       " 65,\n",
       " 67,\n",
       " 69,\n",
       " 71,\n",
       " 73,\n",
       " 75,\n",
       " 77,\n",
       " 79,\n",
       " 81,\n",
       " 83,\n",
       " 85,\n",
       " 87,\n",
       " 89,\n",
       " 91,\n",
       " 93,\n",
       " 95,\n",
       " 97,\n",
       " 99]"
      ]
     },
     "execution_count": 5,
     "metadata": {},
     "output_type": "execute_result"
    },
    {
     "data": {
      "application/javascript": [
       "\n",
       "            setTimeout(function() {\n",
       "                var nbb_cell_id = 5;\n",
       "                var nbb_unformatted_code = \"[a for a in range(0, 100) if a % 2]\";\n",
       "                var nbb_formatted_code = \"[a for a in range(0, 100) if a % 2]\";\n",
       "                var nbb_cells = Jupyter.notebook.get_cells();\n",
       "                for (var i = 0; i < nbb_cells.length; ++i) {\n",
       "                    if (nbb_cells[i].input_prompt_number == nbb_cell_id) {\n",
       "                        if (nbb_cells[i].get_text() == nbb_unformatted_code) {\n",
       "                             nbb_cells[i].set_text(nbb_formatted_code);\n",
       "                        }\n",
       "                        break;\n",
       "                    }\n",
       "                }\n",
       "            }, 500);\n",
       "            "
      ],
      "text/plain": [
       "<IPython.core.display.Javascript object>"
      ]
     },
     "metadata": {},
     "output_type": "display_data"
    }
   ],
   "source": [
    "[a for a in range(0, 100) if a % 2]"
   ]
  },
  {
   "cell_type": "markdown",
   "id": "4d9682bf",
   "metadata": {},
   "source": [
    "### What is pickling/unpickling?\n",
    "\n",
    "* The process to converts any kind of python objects (list, dict, etc.) into byte streams (0s and 1s) is called pickling or serialization or flattening or marshalling\n",
    "* Used to transfer data from one server/system to another and then store it in a file or database"
   ]
  },
  {
   "cell_type": "markdown",
   "id": "9de8a784",
   "metadata": {},
   "source": [
    "### What's a generator?\n",
    "\n",
    "* A function that acts as an iterable\n",
    "* But unlike functions, which return a whole array, a generator yields one value at a time which requires less memory."
   ]
  },
  {
   "cell_type": "code",
   "execution_count": 6,
   "id": "944cb665",
   "metadata": {},
   "outputs": [
    {
     "data": {
      "application/javascript": [
       "\n",
       "            setTimeout(function() {\n",
       "                var nbb_cell_id = 6;\n",
       "                var nbb_unformatted_code = \"def generator_with_strings():\\n    yield \\\"xyz\\\"\\n    yield 1234\\n    yield -193.2\";\n",
       "                var nbb_formatted_code = \"def generator_with_strings():\\n    yield \\\"xyz\\\"\\n    yield 1234\\n    yield -193.2\";\n",
       "                var nbb_cells = Jupyter.notebook.get_cells();\n",
       "                for (var i = 0; i < nbb_cells.length; ++i) {\n",
       "                    if (nbb_cells[i].input_prompt_number == nbb_cell_id) {\n",
       "                        if (nbb_cells[i].get_text() == nbb_unformatted_code) {\n",
       "                             nbb_cells[i].set_text(nbb_formatted_code);\n",
       "                        }\n",
       "                        break;\n",
       "                    }\n",
       "                }\n",
       "            }, 500);\n",
       "            "
      ],
      "text/plain": [
       "<IPython.core.display.Javascript object>"
      ]
     },
     "metadata": {},
     "output_type": "display_data"
    }
   ],
   "source": [
    "def generator_with_strings():\n",
    "    yield \"xyz\"\n",
    "    yield 1234\n",
    "    yield -193.2"
   ]
  },
  {
   "cell_type": "code",
   "execution_count": 7,
   "id": "dd4d6570",
   "metadata": {},
   "outputs": [
    {
     "name": "stdout",
     "output_type": "stream",
     "text": [
      "xyz\n",
      "1234\n",
      "-193.2\n"
     ]
    },
    {
     "data": {
      "application/javascript": [
       "\n",
       "            setTimeout(function() {\n",
       "                var nbb_cell_id = 7;\n",
       "                var nbb_unformatted_code = \"for i in generator_with_strings():\\n    print(i)\";\n",
       "                var nbb_formatted_code = \"for i in generator_with_strings():\\n    print(i)\";\n",
       "                var nbb_cells = Jupyter.notebook.get_cells();\n",
       "                for (var i = 0; i < nbb_cells.length; ++i) {\n",
       "                    if (nbb_cells[i].input_prompt_number == nbb_cell_id) {\n",
       "                        if (nbb_cells[i].get_text() == nbb_unformatted_code) {\n",
       "                             nbb_cells[i].set_text(nbb_formatted_code);\n",
       "                        }\n",
       "                        break;\n",
       "                    }\n",
       "                }\n",
       "            }, 500);\n",
       "            "
      ],
      "text/plain": [
       "<IPython.core.display.Javascript object>"
      ]
     },
     "metadata": {},
     "output_type": "display_data"
    }
   ],
   "source": [
    "for i in generator_with_strings():\n",
    "    print(i)"
   ]
  },
  {
   "cell_type": "code",
   "execution_count": 8,
   "id": "8ad1fb79",
   "metadata": {},
   "outputs": [
    {
     "name": "stdout",
     "output_type": "stream",
     "text": [
      "xyz\n",
      "1234\n",
      "-193.2\n"
     ]
    },
    {
     "ename": "StopIteration",
     "evalue": "",
     "output_type": "error",
     "traceback": [
      "\u001b[0;31m---------------------------------------------------------------------------\u001b[0m",
      "\u001b[0;31mStopIteration\u001b[0m                             Traceback (most recent call last)",
      "Cell \u001b[0;32mIn[8], line 5\u001b[0m\n\u001b[1;32m      3\u001b[0m \u001b[38;5;28mprint\u001b[39m(g\u001b[38;5;241m.\u001b[39m\u001b[38;5;21m__next__\u001b[39m())\n\u001b[1;32m      4\u001b[0m \u001b[38;5;28mprint\u001b[39m(g\u001b[38;5;241m.\u001b[39m\u001b[38;5;21m__next__\u001b[39m())\n\u001b[0;32m----> 5\u001b[0m \u001b[38;5;28mprint\u001b[39m(\u001b[43mg\u001b[49m\u001b[38;5;241;43m.\u001b[39;49m\u001b[38;5;21;43m__next__\u001b[39;49m\u001b[43m(\u001b[49m\u001b[43m)\u001b[49m)\n",
      "\u001b[0;31mStopIteration\u001b[0m: "
     ]
    },
    {
     "data": {
      "application/javascript": [
       "\n",
       "            setTimeout(function() {\n",
       "                var nbb_cell_id = 8;\n",
       "                var nbb_unformatted_code = \"g = generator_with_strings()\\nprint(g.__next__())\\nprint(g.__next__())\\nprint(g.__next__())\\nprint(g.__next__())\";\n",
       "                var nbb_formatted_code = \"g = generator_with_strings()\\nprint(g.__next__())\\nprint(g.__next__())\\nprint(g.__next__())\\nprint(g.__next__())\";\n",
       "                var nbb_cells = Jupyter.notebook.get_cells();\n",
       "                for (var i = 0; i < nbb_cells.length; ++i) {\n",
       "                    if (nbb_cells[i].input_prompt_number == nbb_cell_id) {\n",
       "                        if (nbb_cells[i].get_text() == nbb_unformatted_code) {\n",
       "                             nbb_cells[i].set_text(nbb_formatted_code);\n",
       "                        }\n",
       "                        break;\n",
       "                    }\n",
       "                }\n",
       "            }, 500);\n",
       "            "
      ],
      "text/plain": [
       "<IPython.core.display.Javascript object>"
      ]
     },
     "metadata": {},
     "output_type": "display_data"
    }
   ],
   "source": [
    "g = generator_with_strings()\n",
    "print(g.__next__())\n",
    "print(g.__next__())\n",
    "print(g.__next__())\n",
    "print(g.__next__())"
   ]
  },
  {
   "cell_type": "code",
   "execution_count": 9,
   "id": "ae933339",
   "metadata": {},
   "outputs": [
    {
     "data": {
      "application/javascript": [
       "\n",
       "            setTimeout(function() {\n",
       "                var nbb_cell_id = 9;\n",
       "                var nbb_unformatted_code = \"def num_generator(n):\\n    num = 1\\n\\n    while True:\\n        yield num\\n        if num == n:\\n            return\\n        else:\\n            num += 1\";\n",
       "                var nbb_formatted_code = \"def num_generator(n):\\n    num = 1\\n\\n    while True:\\n        yield num\\n        if num == n:\\n            return\\n        else:\\n            num += 1\";\n",
       "                var nbb_cells = Jupyter.notebook.get_cells();\n",
       "                for (var i = 0; i < nbb_cells.length; ++i) {\n",
       "                    if (nbb_cells[i].input_prompt_number == nbb_cell_id) {\n",
       "                        if (nbb_cells[i].get_text() == nbb_unformatted_code) {\n",
       "                             nbb_cells[i].set_text(nbb_formatted_code);\n",
       "                        }\n",
       "                        break;\n",
       "                    }\n",
       "                }\n",
       "            }, 500);\n",
       "            "
      ],
      "text/plain": [
       "<IPython.core.display.Javascript object>"
      ]
     },
     "metadata": {},
     "output_type": "display_data"
    }
   ],
   "source": [
    "def num_generator(n):\n",
    "    num = 1\n",
    "\n",
    "    while True:\n",
    "        yield num\n",
    "        if num == n:\n",
    "            return\n",
    "        else:\n",
    "            num += 1"
   ]
  },
  {
   "cell_type": "code",
   "execution_count": 10,
   "id": "52e7aed7",
   "metadata": {},
   "outputs": [
    {
     "name": "stdout",
     "output_type": "stream",
     "text": [
      "1\n",
      "2\n",
      "3\n",
      "4\n"
     ]
    },
    {
     "data": {
      "application/javascript": [
       "\n",
       "            setTimeout(function() {\n",
       "                var nbb_cell_id = 10;\n",
       "                var nbb_unformatted_code = \"n = num_generator(10)\\nprint(n.__next__())\\nprint(n.__next__())\\nprint(n.__next__())\\nprint(n.__next__())\";\n",
       "                var nbb_formatted_code = \"n = num_generator(10)\\nprint(n.__next__())\\nprint(n.__next__())\\nprint(n.__next__())\\nprint(n.__next__())\";\n",
       "                var nbb_cells = Jupyter.notebook.get_cells();\n",
       "                for (var i = 0; i < nbb_cells.length; ++i) {\n",
       "                    if (nbb_cells[i].input_prompt_number == nbb_cell_id) {\n",
       "                        if (nbb_cells[i].get_text() == nbb_unformatted_code) {\n",
       "                             nbb_cells[i].set_text(nbb_formatted_code);\n",
       "                        }\n",
       "                        break;\n",
       "                    }\n",
       "                }\n",
       "            }, 500);\n",
       "            "
      ],
      "text/plain": [
       "<IPython.core.display.Javascript object>"
      ]
     },
     "metadata": {},
     "output_type": "display_data"
    }
   ],
   "source": [
    "n = num_generator(10)\n",
    "print(n.__next__())\n",
    "print(n.__next__())\n",
    "print(n.__next__())\n",
    "print(n.__next__())"
   ]
  },
  {
   "cell_type": "markdown",
   "id": "756bc785",
   "metadata": {},
   "source": [
    "### What are decorators?"
   ]
  },
  {
   "cell_type": "markdown",
   "id": "e1b75320",
   "metadata": {},
   "source": [
    "* used to modify or inject code in functions or classes. \n",
    "* Using decorators, you can wrap a class or function method call so that a piece of code can be executed before or after the execution of the original code.\n",
    "* Decorators can be used to check for permissions, modify or track the arguments passed to a method, logging the calls to a specific method, etc."
   ]
  },
  {
   "cell_type": "code",
   "execution_count": 11,
   "id": "29775547",
   "metadata": {},
   "outputs": [
    {
     "data": {
      "application/javascript": [
       "\n",
       "            setTimeout(function() {\n",
       "                var nbb_cell_id = 11;\n",
       "                var nbb_unformatted_code = \"import time\\nimport math\";\n",
       "                var nbb_formatted_code = \"import time\\nimport math\";\n",
       "                var nbb_cells = Jupyter.notebook.get_cells();\n",
       "                for (var i = 0; i < nbb_cells.length; ++i) {\n",
       "                    if (nbb_cells[i].input_prompt_number == nbb_cell_id) {\n",
       "                        if (nbb_cells[i].get_text() == nbb_unformatted_code) {\n",
       "                             nbb_cells[i].set_text(nbb_formatted_code);\n",
       "                        }\n",
       "                        break;\n",
       "                    }\n",
       "                }\n",
       "            }, 500);\n",
       "            "
      ],
      "text/plain": [
       "<IPython.core.display.Javascript object>"
      ]
     },
     "metadata": {},
     "output_type": "display_data"
    }
   ],
   "source": [
    "import time\n",
    "import math"
   ]
  },
  {
   "cell_type": "code",
   "execution_count": 12,
   "id": "4d1d2aee",
   "metadata": {},
   "outputs": [
    {
     "data": {
      "application/javascript": [
       "\n",
       "            setTimeout(function() {\n",
       "                var nbb_cell_id = 12;\n",
       "                var nbb_unformatted_code = \"def calculate_time(func):\\n    def inner1(*args, **kwargs):\\n        begin = time.time()\\n        func(*args, **kwargs)\\n        end = time.time()\\n        print(\\\"Total time taken in to excute\\\", func.__name__, end - begin)\\n\\n    return inner1\";\n",
       "                var nbb_formatted_code = \"def calculate_time(func):\\n    def inner1(*args, **kwargs):\\n        begin = time.time()\\n        func(*args, **kwargs)\\n        end = time.time()\\n        print(\\\"Total time taken in to excute\\\", func.__name__, end - begin)\\n\\n    return inner1\";\n",
       "                var nbb_cells = Jupyter.notebook.get_cells();\n",
       "                for (var i = 0; i < nbb_cells.length; ++i) {\n",
       "                    if (nbb_cells[i].input_prompt_number == nbb_cell_id) {\n",
       "                        if (nbb_cells[i].get_text() == nbb_unformatted_code) {\n",
       "                             nbb_cells[i].set_text(nbb_formatted_code);\n",
       "                        }\n",
       "                        break;\n",
       "                    }\n",
       "                }\n",
       "            }, 500);\n",
       "            "
      ],
      "text/plain": [
       "<IPython.core.display.Javascript object>"
      ]
     },
     "metadata": {},
     "output_type": "display_data"
    }
   ],
   "source": [
    "def calculate_time(func):\n",
    "    def inner1(*args, **kwargs):\n",
    "        begin = time.time()\n",
    "        func(*args, **kwargs)\n",
    "        end = time.time()\n",
    "        print(\"Total time taken in to excute\", func.__name__, end - begin)\n",
    "\n",
    "    return inner1"
   ]
  },
  {
   "cell_type": "code",
   "execution_count": 13,
   "id": "8e44501d",
   "metadata": {},
   "outputs": [
    {
     "data": {
      "application/javascript": [
       "\n",
       "            setTimeout(function() {\n",
       "                var nbb_cell_id = 13;\n",
       "                var nbb_unformatted_code = \"@calculate_time\\ndef factorial(num):\\n    time.sleep(2)\\n    print(math.factorial(num))\";\n",
       "                var nbb_formatted_code = \"@calculate_time\\ndef factorial(num):\\n    time.sleep(2)\\n    print(math.factorial(num))\";\n",
       "                var nbb_cells = Jupyter.notebook.get_cells();\n",
       "                for (var i = 0; i < nbb_cells.length; ++i) {\n",
       "                    if (nbb_cells[i].input_prompt_number == nbb_cell_id) {\n",
       "                        if (nbb_cells[i].get_text() == nbb_unformatted_code) {\n",
       "                             nbb_cells[i].set_text(nbb_formatted_code);\n",
       "                        }\n",
       "                        break;\n",
       "                    }\n",
       "                }\n",
       "            }, 500);\n",
       "            "
      ],
      "text/plain": [
       "<IPython.core.display.Javascript object>"
      ]
     },
     "metadata": {},
     "output_type": "display_data"
    }
   ],
   "source": [
    "@calculate_time\n",
    "def factorial(num):\n",
    "    time.sleep(2)\n",
    "    print(math.factorial(num))"
   ]
  },
  {
   "cell_type": "code",
   "execution_count": 14,
   "id": "8737569e",
   "metadata": {},
   "outputs": [
    {
     "name": "stdout",
     "output_type": "stream",
     "text": [
      "3628800\n",
      "Total time taken in to excute factorial 2.004835844039917\n"
     ]
    },
    {
     "data": {
      "application/javascript": [
       "\n",
       "            setTimeout(function() {\n",
       "                var nbb_cell_id = 14;\n",
       "                var nbb_unformatted_code = \"factorial(10)\";\n",
       "                var nbb_formatted_code = \"factorial(10)\";\n",
       "                var nbb_cells = Jupyter.notebook.get_cells();\n",
       "                for (var i = 0; i < nbb_cells.length; ++i) {\n",
       "                    if (nbb_cells[i].input_prompt_number == nbb_cell_id) {\n",
       "                        if (nbb_cells[i].get_text() == nbb_unformatted_code) {\n",
       "                             nbb_cells[i].set_text(nbb_formatted_code);\n",
       "                        }\n",
       "                        break;\n",
       "                    }\n",
       "                }\n",
       "            }, 500);\n",
       "            "
      ],
      "text/plain": [
       "<IPython.core.display.Javascript object>"
      ]
     },
     "metadata": {},
     "output_type": "display_data"
    }
   ],
   "source": [
    "factorial(10)"
   ]
  },
  {
   "cell_type": "markdown",
   "id": "01b704f9",
   "metadata": {},
   "source": [
    "### What's `lambda`?\n",
    "\n",
    "Anonymous function created at runtime."
   ]
  },
  {
   "cell_type": "code",
   "execution_count": 15,
   "id": "2c849c94",
   "metadata": {},
   "outputs": [
    {
     "data": {
      "text/plain": [
       "'Hello World!'"
      ]
     },
     "execution_count": 15,
     "metadata": {},
     "output_type": "execute_result"
    },
    {
     "data": {
      "application/javascript": [
       "\n",
       "            setTimeout(function() {\n",
       "                var nbb_cell_id = 15;\n",
       "                var nbb_unformatted_code = \"greeter = lambda x: \\\"Hello %s\\\" % x\\ngreeter(\\\"World!\\\")\";\n",
       "                var nbb_formatted_code = \"greeter = lambda x: \\\"Hello %s\\\" % x\\ngreeter(\\\"World!\\\")\";\n",
       "                var nbb_cells = Jupyter.notebook.get_cells();\n",
       "                for (var i = 0; i < nbb_cells.length; ++i) {\n",
       "                    if (nbb_cells[i].input_prompt_number == nbb_cell_id) {\n",
       "                        if (nbb_cells[i].get_text() == nbb_unformatted_code) {\n",
       "                             nbb_cells[i].set_text(nbb_formatted_code);\n",
       "                        }\n",
       "                        break;\n",
       "                    }\n",
       "                }\n",
       "            }, 500);\n",
       "            "
      ],
      "text/plain": [
       "<IPython.core.display.Javascript object>"
      ]
     },
     "metadata": {},
     "output_type": "display_data"
    }
   ],
   "source": [
    "greeter = lambda x: \"Hello %s\" % x\n",
    "greeter(\"World!\")"
   ]
  },
  {
   "cell_type": "markdown",
   "id": "9372e6f3",
   "metadata": {},
   "source": [
    "### Explain `*args` and `**kwargs`\n",
    "\n",
    "* `*args` is a tuple containing the position arguments\n",
    "* `**kwargs` is a dict with keyword arguments."
   ]
  },
  {
   "cell_type": "code",
   "execution_count": 16,
   "id": "4103ad6d",
   "metadata": {},
   "outputs": [
    {
     "data": {
      "application/javascript": [
       "\n",
       "            setTimeout(function() {\n",
       "                var nbb_cell_id = 16;\n",
       "                var nbb_unformatted_code = \"def myFun(arg1, arg2, arg3):\\n    print(\\\"arg1:\\\", arg1)\\n    print(\\\"arg2:\\\", arg2)\\n    print(\\\"arg3:\\\", arg3)\";\n",
       "                var nbb_formatted_code = \"def myFun(arg1, arg2, arg3):\\n    print(\\\"arg1:\\\", arg1)\\n    print(\\\"arg2:\\\", arg2)\\n    print(\\\"arg3:\\\", arg3)\";\n",
       "                var nbb_cells = Jupyter.notebook.get_cells();\n",
       "                for (var i = 0; i < nbb_cells.length; ++i) {\n",
       "                    if (nbb_cells[i].input_prompt_number == nbb_cell_id) {\n",
       "                        if (nbb_cells[i].get_text() == nbb_unformatted_code) {\n",
       "                             nbb_cells[i].set_text(nbb_formatted_code);\n",
       "                        }\n",
       "                        break;\n",
       "                    }\n",
       "                }\n",
       "            }, 500);\n",
       "            "
      ],
      "text/plain": [
       "<IPython.core.display.Javascript object>"
      ]
     },
     "metadata": {},
     "output_type": "display_data"
    }
   ],
   "source": [
    "def myFun(arg1, arg2, arg3):\n",
    "    print(\"arg1:\", arg1)\n",
    "    print(\"arg2:\", arg2)\n",
    "    print(\"arg3:\", arg3)"
   ]
  },
  {
   "cell_type": "code",
   "execution_count": 17,
   "id": "7d580566",
   "metadata": {},
   "outputs": [
    {
     "name": "stdout",
     "output_type": "stream",
     "text": [
      "arg1: Geeks\n",
      "arg2: for\n",
      "arg3: Geeks\n"
     ]
    },
    {
     "data": {
      "application/javascript": [
       "\n",
       "            setTimeout(function() {\n",
       "                var nbb_cell_id = 17;\n",
       "                var nbb_unformatted_code = \"args = (\\\"Geeks\\\", \\\"for\\\", \\\"Geeks\\\")\\nmyFun(*args)\";\n",
       "                var nbb_formatted_code = \"args = (\\\"Geeks\\\", \\\"for\\\", \\\"Geeks\\\")\\nmyFun(*args)\";\n",
       "                var nbb_cells = Jupyter.notebook.get_cells();\n",
       "                for (var i = 0; i < nbb_cells.length; ++i) {\n",
       "                    if (nbb_cells[i].input_prompt_number == nbb_cell_id) {\n",
       "                        if (nbb_cells[i].get_text() == nbb_unformatted_code) {\n",
       "                             nbb_cells[i].set_text(nbb_formatted_code);\n",
       "                        }\n",
       "                        break;\n",
       "                    }\n",
       "                }\n",
       "            }, 500);\n",
       "            "
      ],
      "text/plain": [
       "<IPython.core.display.Javascript object>"
      ]
     },
     "metadata": {},
     "output_type": "display_data"
    }
   ],
   "source": [
    "args = (\"Geeks\", \"for\", \"Geeks\")\n",
    "myFun(*args)"
   ]
  },
  {
   "cell_type": "code",
   "execution_count": 18,
   "id": "2f1f8e6d",
   "metadata": {},
   "outputs": [
    {
     "name": "stdout",
     "output_type": "stream",
     "text": [
      "arg1: Geeks\n",
      "arg2: for\n",
      "arg3: Geeks\n"
     ]
    },
    {
     "data": {
      "application/javascript": [
       "\n",
       "            setTimeout(function() {\n",
       "                var nbb_cell_id = 18;\n",
       "                var nbb_unformatted_code = \"kwargs = {\\\"arg1\\\": \\\"Geeks\\\", \\\"arg2\\\": \\\"for\\\", \\\"arg3\\\": \\\"Geeks\\\"}\\nmyFun(**kwargs)\";\n",
       "                var nbb_formatted_code = \"kwargs = {\\\"arg1\\\": \\\"Geeks\\\", \\\"arg2\\\": \\\"for\\\", \\\"arg3\\\": \\\"Geeks\\\"}\\nmyFun(**kwargs)\";\n",
       "                var nbb_cells = Jupyter.notebook.get_cells();\n",
       "                for (var i = 0; i < nbb_cells.length; ++i) {\n",
       "                    if (nbb_cells[i].input_prompt_number == nbb_cell_id) {\n",
       "                        if (nbb_cells[i].get_text() == nbb_unformatted_code) {\n",
       "                             nbb_cells[i].set_text(nbb_formatted_code);\n",
       "                        }\n",
       "                        break;\n",
       "                    }\n",
       "                }\n",
       "            }, 500);\n",
       "            "
      ],
      "text/plain": [
       "<IPython.core.display.Javascript object>"
      ]
     },
     "metadata": {},
     "output_type": "display_data"
    }
   ],
   "source": [
    "kwargs = {\"arg1\": \"Geeks\", \"arg2\": \"for\", \"arg3\": \"Geeks\"}\n",
    "myFun(**kwargs)"
   ]
  },
  {
   "cell_type": "markdown",
   "id": "16e35359",
   "metadata": {},
   "source": [
    "### Given variables a and b, switch their values so that b has the value of a, and a has the value of b without using an intermediary variable."
   ]
  },
  {
   "cell_type": "code",
   "execution_count": 19,
   "id": "f0924f4c",
   "metadata": {},
   "outputs": [
    {
     "data": {
      "application/javascript": [
       "\n",
       "            setTimeout(function() {\n",
       "                var nbb_cell_id = 19;\n",
       "                var nbb_unformatted_code = \"a = 1\\nb = 2\\na, b = b, a\";\n",
       "                var nbb_formatted_code = \"a = 1\\nb = 2\\na, b = b, a\";\n",
       "                var nbb_cells = Jupyter.notebook.get_cells();\n",
       "                for (var i = 0; i < nbb_cells.length; ++i) {\n",
       "                    if (nbb_cells[i].input_prompt_number == nbb_cell_id) {\n",
       "                        if (nbb_cells[i].get_text() == nbb_unformatted_code) {\n",
       "                             nbb_cells[i].set_text(nbb_formatted_code);\n",
       "                        }\n",
       "                        break;\n",
       "                    }\n",
       "                }\n",
       "            }, 500);\n",
       "            "
      ],
      "text/plain": [
       "<IPython.core.display.Javascript object>"
      ]
     },
     "metadata": {},
     "output_type": "display_data"
    }
   ],
   "source": [
    "a = 1\n",
    "b = 2\n",
    "a, b = b, a"
   ]
  },
  {
   "cell_type": "code",
   "execution_count": 20,
   "id": "c37d36e6",
   "metadata": {},
   "outputs": [
    {
     "name": "stdout",
     "output_type": "stream",
     "text": [
      "2 1\n"
     ]
    },
    {
     "data": {
      "application/javascript": [
       "\n",
       "            setTimeout(function() {\n",
       "                var nbb_cell_id = 20;\n",
       "                var nbb_unformatted_code = \"print(a, b)\";\n",
       "                var nbb_formatted_code = \"print(a, b)\";\n",
       "                var nbb_cells = Jupyter.notebook.get_cells();\n",
       "                for (var i = 0; i < nbb_cells.length; ++i) {\n",
       "                    if (nbb_cells[i].input_prompt_number == nbb_cell_id) {\n",
       "                        if (nbb_cells[i].get_text() == nbb_unformatted_code) {\n",
       "                             nbb_cells[i].set_text(nbb_formatted_code);\n",
       "                        }\n",
       "                        break;\n",
       "                    }\n",
       "                }\n",
       "            }, 500);\n",
       "            "
      ],
      "text/plain": [
       "<IPython.core.display.Javascript object>"
      ]
     },
     "metadata": {},
     "output_type": "display_data"
    }
   ],
   "source": [
    "print(a, b)"
   ]
  },
  {
   "cell_type": "markdown",
   "id": "37fd3368",
   "metadata": {},
   "source": [
    "### What is introspection/reflection and does Python support it?\n",
    "\n",
    "* **Introspection** is the ability to examine an object at runtime. \n",
    "* Python has a `dir()` function that supports examining the attributes of an object, `type()` to check the object type, `isinstance()`, etc.\n",
    "* While introspection is passive examination of the objects, **reflection** is a more powerful tool where we could modify objects at runtime and access them dynamically. E.g.\n",
    "* setattr() adds or modifies an object's attribute;\n",
    "* getattr() gets the value of an attribute of an object.\n",
    "* It can even invoke functions dynamically - getattr(my_obj, \"my_func_name\")()"
   ]
  },
  {
   "cell_type": "markdown",
   "id": "2cc3b8cc",
   "metadata": {},
   "source": [
    "### What is PEP8?\n",
    "\n",
    "PEP8 = styling guide for python"
   ]
  },
  {
   "cell_type": "markdown",
   "id": "21fb9b19",
   "metadata": {},
   "source": [
    "### What is pip?\n",
    "\n",
    "Pip is python's package manager."
   ]
  },
  {
   "cell_type": "markdown",
   "id": "4f3d517a",
   "metadata": {},
   "source": [
    "### CheeseShop?\n",
    "\n",
    "CheeseShop is what the python developers call PyPI (The Python Package Index) - a repository of software for the Python programming language."
   ]
  }
 ],
 "metadata": {
  "kernelspec": {
   "display_name": "Python 3 (ipykernel)",
   "language": "python",
   "name": "python3"
  },
  "language_info": {
   "codemirror_mode": {
    "name": "ipython",
    "version": 3
   },
   "file_extension": ".py",
   "mimetype": "text/x-python",
   "name": "python",
   "nbconvert_exporter": "python",
   "pygments_lexer": "ipython3",
   "version": "3.9.16"
  }
 },
 "nbformat": 4,
 "nbformat_minor": 5
}
