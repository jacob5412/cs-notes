{
 "cells": [
  {
   "cell_type": "markdown",
   "id": "835f1088",
   "metadata": {},
   "source": [
    "# Star Patterns in Python"
   ]
  },
  {
   "cell_type": "markdown",
   "id": "46aca24d",
   "metadata": {},
   "source": [
    "## Pyramid\n",
    "\n",
    "```bash\n",
    "    *\n",
    "   * *\n",
    "  * * *\n",
    " * * * * \n",
    "* * * * *\n",
    "```"
   ]
  },
  {
   "cell_type": "code",
   "execution_count": 1,
   "id": "9ba58c13",
   "metadata": {},
   "outputs": [
    {
     "name": "stdout",
     "output_type": "stream",
     "text": [
      "          * \n",
      "         * * \n",
      "        * * * \n",
      "       * * * * \n",
      "      * * * * * \n",
      "     * * * * * * \n",
      "    * * * * * * * \n",
      "   * * * * * * * * \n",
      "  * * * * * * * * * \n",
      " * * * * * * * * * * \n"
     ]
    }
   ],
   "source": [
    "num_rows = 10\n",
    "for i in range(0, num_rows):\n",
    "    print(\" \"*(num_rows - i - 1), end=\" \")\n",
    "    print(\"* \"*(i+1))"
   ]
  },
  {
   "cell_type": "markdown",
   "id": "7628f552",
   "metadata": {},
   "source": [
    "## Half Pyramid"
   ]
  },
  {
   "cell_type": "code",
   "execution_count": 2,
   "id": "7b1726f6",
   "metadata": {},
   "outputs": [
    {
     "name": "stdout",
     "output_type": "stream",
     "text": [
      "* \n",
      "* * \n",
      "* * * \n",
      "* * * * \n",
      "* * * * * \n",
      "* * * * * * \n",
      "* * * * * * * \n",
      "* * * * * * * * \n",
      "* * * * * * * * * \n",
      "* * * * * * * * * * \n"
     ]
    }
   ],
   "source": [
    "num_rows = 10\n",
    "for i in range(0, num_rows):\n",
    "    print(\"* \"*(i+1))"
   ]
  },
  {
   "cell_type": "markdown",
   "id": "ab9efb07",
   "metadata": {},
   "source": [
    "## Right Half Pyramid"
   ]
  },
  {
   "cell_type": "code",
   "execution_count": 3,
   "id": "106fd358",
   "metadata": {},
   "outputs": [
    {
     "name": "stdout",
     "output_type": "stream",
     "text": [
      "                   * \n",
      "                 * * \n",
      "               * * * \n",
      "             * * * * \n",
      "           * * * * * \n",
      "         * * * * * * \n",
      "       * * * * * * * \n",
      "     * * * * * * * * \n",
      "   * * * * * * * * * \n",
      " * * * * * * * * * * \n"
     ]
    }
   ],
   "source": [
    "num_rows = 10\n",
    "for i in range(0, num_rows):\n",
    "    print(\" \"*((num_rows * 2) - (i * 2) - 2), end=\" \")\n",
    "    print(\"* \"*(i+1))"
   ]
  },
  {
   "cell_type": "markdown",
   "id": "bf6d9472",
   "metadata": {},
   "source": [
    "## Diamond"
   ]
  },
  {
   "cell_type": "code",
   "execution_count": 4,
   "id": "86f2a802",
   "metadata": {},
   "outputs": [
    {
     "name": "stdout",
     "output_type": "stream",
     "text": [
      "          * \n",
      "         * * \n",
      "        * * * \n",
      "       * * * * \n",
      "      * * * * * \n",
      "     * * * * * * \n",
      "    * * * * * * * \n",
      "   * * * * * * * * \n",
      "  * * * * * * * * * \n",
      " * * * * * * * * * * \n",
      "  * * * * * * * * * \n",
      "   * * * * * * * * \n",
      "    * * * * * * * \n",
      "     * * * * * * \n",
      "      * * * * * \n",
      "       * * * * \n",
      "        * * * \n",
      "         * * \n",
      "          * \n"
     ]
    }
   ],
   "source": [
    "max_star_rows = 10\n",
    "num_rows = max_star_rows * 2 -1\n",
    "for i in range(0, num_rows):\n",
    "    if i < max_star_rows:\n",
    "        print(\" \"*(max_star_rows - i - 1), end=\" \")\n",
    "        print(\"* \"*(i+1))\n",
    "    elif i >= max_star_rows:\n",
    "        print(\" \" * (i - max_star_rows + 1),end=\" \")\n",
    "        print(\"* \"*(max_star_rows * 2 - i - 1))"
   ]
  },
  {
   "cell_type": "code",
   "execution_count": null,
   "id": "930c1c8e",
   "metadata": {},
   "outputs": [],
   "source": []
  }
 ],
 "metadata": {
  "kernelspec": {
   "display_name": "Python 3 (ipykernel)",
   "language": "python",
   "name": "python3"
  },
  "language_info": {
   "codemirror_mode": {
    "name": "ipython",
    "version": 3
   },
   "file_extension": ".py",
   "mimetype": "text/x-python",
   "name": "python",
   "nbconvert_exporter": "python",
   "pygments_lexer": "ipython3",
   "version": "3.9.16"
  }
 },
 "nbformat": 4,
 "nbformat_minor": 5
}
